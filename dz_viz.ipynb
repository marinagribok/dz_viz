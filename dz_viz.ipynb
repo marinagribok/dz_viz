{
 "cells": [
  {
   "cell_type": "code",
   "execution_count": null,
   "metadata": {},
   "outputs": [],
   "source": [
    "import pandas as pd\n",
    "import matplotlib.pyplot as plt"
   ]
  },
  {
   "cell_type": "code",
   "execution_count": null,
   "metadata": {},
   "outputs": [],
   "source": []
  },
  {
   "cell_type": "code",
   "execution_count": null,
   "metadata": {},
   "outputs": [],
   "source": []
  },
  {
   "cell_type": "code",
   "execution_count": null,
   "metadata": {},
   "outputs": [],
   "source": []
  },
  {
   "cell_type": "markdown",
   "metadata": {},
   "source": [
    "Данные о результатах выборов Президента РФ в 2018 году по УИКам"
   ]
  },
  {
   "cell_type": "code",
   "execution_count": 5,
   "metadata": {},
   "outputs": [
    {
     "data": {
      "text/html": [
       "<div>\n",
       "<style scoped>\n",
       "    .dataframe tbody tr th:only-of-type {\n",
       "        vertical-align: middle;\n",
       "    }\n",
       "\n",
       "    .dataframe tbody tr th {\n",
       "        vertical-align: top;\n",
       "    }\n",
       "\n",
       "    .dataframe thead th {\n",
       "        text-align: right;\n",
       "    }\n",
       "</style>\n",
       "<table border=\"1\" class=\"dataframe\">\n",
       "  <thead>\n",
       "    <tr style=\"text-align: right;\">\n",
       "      <th></th>\n",
       "      <th>ps_id</th>\n",
       "      <th>region_name</th>\n",
       "      <th>subregion_name</th>\n",
       "      <th>Baburin Sergei Nikolaevich</th>\n",
       "      <th>Grudinin Pavel Nikolaevich</th>\n",
       "      <th>Zhirinovskiy Vladimir Volfovich</th>\n",
       "      <th>Putin Vladimir Vladimirovich</th>\n",
       "      <th>Sobchak Ksenia Anatolyevna</th>\n",
       "      <th>Suraikin Maksim Aleksandrovich</th>\n",
       "      <th>Titov Boris Yurievich</th>\n",
       "      <th>...</th>\n",
       "      <th>Number of voters enlisted</th>\n",
       "      <th>Number of ballot papers in portable ballot boxes</th>\n",
       "      <th>Number of ballot papers given inside the polling station</th>\n",
       "      <th>Number of ballot papers given outside the polling station</th>\n",
       "      <th>Number of ballot papers given for advance voting</th>\n",
       "      <th>Number of excessive ballot papers</th>\n",
       "      <th>Number of ballot papers acquired at the polling station</th>\n",
       "      <th>Number of invalid ballot papers</th>\n",
       "      <th>Number of unused ballot papers</th>\n",
       "      <th>Number of lost ballot papers</th>\n",
       "    </tr>\n",
       "  </thead>\n",
       "  <tbody>\n",
       "    <tr>\n",
       "      <th>0</th>\n",
       "      <td>713</td>\n",
       "      <td>Altajskij kraj</td>\n",
       "      <td>Bystroistokskaa</td>\n",
       "      <td>1</td>\n",
       "      <td>109</td>\n",
       "      <td>42</td>\n",
       "      <td>398</td>\n",
       "      <td>2</td>\n",
       "      <td>3</td>\n",
       "      <td>0</td>\n",
       "      <td>...</td>\n",
       "      <td>815</td>\n",
       "      <td>139</td>\n",
       "      <td>421</td>\n",
       "      <td>139</td>\n",
       "      <td>0</td>\n",
       "      <td>0</td>\n",
       "      <td>750</td>\n",
       "      <td>5</td>\n",
       "      <td>190</td>\n",
       "      <td>0</td>\n",
       "    </tr>\n",
       "    <tr>\n",
       "      <th>1</th>\n",
       "      <td>714</td>\n",
       "      <td>Altajskij kraj</td>\n",
       "      <td>Bystroistokskaa</td>\n",
       "      <td>4</td>\n",
       "      <td>27</td>\n",
       "      <td>27</td>\n",
       "      <td>199</td>\n",
       "      <td>0</td>\n",
       "      <td>3</td>\n",
       "      <td>0</td>\n",
       "      <td>...</td>\n",
       "      <td>355</td>\n",
       "      <td>38</td>\n",
       "      <td>224</td>\n",
       "      <td>38</td>\n",
       "      <td>0</td>\n",
       "      <td>0</td>\n",
       "      <td>350</td>\n",
       "      <td>2</td>\n",
       "      <td>88</td>\n",
       "      <td>0</td>\n",
       "    </tr>\n",
       "    <tr>\n",
       "      <th>2</th>\n",
       "      <td>715</td>\n",
       "      <td>Altajskij kraj</td>\n",
       "      <td>Bystroistokskaa</td>\n",
       "      <td>3</td>\n",
       "      <td>100</td>\n",
       "      <td>47</td>\n",
       "      <td>325</td>\n",
       "      <td>2</td>\n",
       "      <td>1</td>\n",
       "      <td>2</td>\n",
       "      <td>...</td>\n",
       "      <td>812</td>\n",
       "      <td>63</td>\n",
       "      <td>424</td>\n",
       "      <td>63</td>\n",
       "      <td>0</td>\n",
       "      <td>0</td>\n",
       "      <td>750</td>\n",
       "      <td>6</td>\n",
       "      <td>263</td>\n",
       "      <td>0</td>\n",
       "    </tr>\n",
       "    <tr>\n",
       "      <th>3</th>\n",
       "      <td>716</td>\n",
       "      <td>Altajskij kraj</td>\n",
       "      <td>Bystroistokskaa</td>\n",
       "      <td>2</td>\n",
       "      <td>131</td>\n",
       "      <td>51</td>\n",
       "      <td>420</td>\n",
       "      <td>1</td>\n",
       "      <td>5</td>\n",
       "      <td>1</td>\n",
       "      <td>...</td>\n",
       "      <td>960</td>\n",
       "      <td>56</td>\n",
       "      <td>568</td>\n",
       "      <td>56</td>\n",
       "      <td>0</td>\n",
       "      <td>0</td>\n",
       "      <td>900</td>\n",
       "      <td>7</td>\n",
       "      <td>276</td>\n",
       "      <td>0</td>\n",
       "    </tr>\n",
       "    <tr>\n",
       "      <th>4</th>\n",
       "      <td>717</td>\n",
       "      <td>Altajskij kraj</td>\n",
       "      <td>Bystroistokskaa</td>\n",
       "      <td>6</td>\n",
       "      <td>155</td>\n",
       "      <td>66</td>\n",
       "      <td>406</td>\n",
       "      <td>5</td>\n",
       "      <td>2</td>\n",
       "      <td>2</td>\n",
       "      <td>...</td>\n",
       "      <td>1034</td>\n",
       "      <td>65</td>\n",
       "      <td>586</td>\n",
       "      <td>65</td>\n",
       "      <td>0</td>\n",
       "      <td>0</td>\n",
       "      <td>1000</td>\n",
       "      <td>8</td>\n",
       "      <td>349</td>\n",
       "      <td>0</td>\n",
       "    </tr>\n",
       "  </tbody>\n",
       "</table>\n",
       "<p>5 rows × 23 columns</p>\n",
       "</div>"
      ],
      "text/plain": [
       "   ps_id     region_name   subregion_name  Baburin Sergei Nikolaevich  \\\n",
       "0    713  Altajskij kraj  Bystroistokskaa                           1   \n",
       "1    714  Altajskij kraj  Bystroistokskaa                           4   \n",
       "2    715  Altajskij kraj  Bystroistokskaa                           3   \n",
       "3    716  Altajskij kraj  Bystroistokskaa                           2   \n",
       "4    717  Altajskij kraj  Bystroistokskaa                           6   \n",
       "\n",
       "   Grudinin Pavel Nikolaevich  Zhirinovskiy Vladimir Volfovich  \\\n",
       "0                         109                               42   \n",
       "1                          27                               27   \n",
       "2                         100                               47   \n",
       "3                         131                               51   \n",
       "4                         155                               66   \n",
       "\n",
       "   Putin Vladimir Vladimirovich  Sobchak Ksenia Anatolyevna  \\\n",
       "0                           398                           2   \n",
       "1                           199                           0   \n",
       "2                           325                           2   \n",
       "3                           420                           1   \n",
       "4                           406                           5   \n",
       "\n",
       "   Suraikin Maksim Aleksandrovich  Titov Boris Yurievich  ...  \\\n",
       "0                               3                      0  ...   \n",
       "1                               3                      0  ...   \n",
       "2                               1                      2  ...   \n",
       "3                               5                      1  ...   \n",
       "4                               2                      2  ...   \n",
       "\n",
       "   Number of voters enlisted  \\\n",
       "0                        815   \n",
       "1                        355   \n",
       "2                        812   \n",
       "3                        960   \n",
       "4                       1034   \n",
       "\n",
       "   Number of ballot papers in portable ballot boxes  \\\n",
       "0                                               139   \n",
       "1                                                38   \n",
       "2                                                63   \n",
       "3                                                56   \n",
       "4                                                65   \n",
       "\n",
       "   Number of ballot papers given inside the polling station  \\\n",
       "0                                                421          \n",
       "1                                                224          \n",
       "2                                                424          \n",
       "3                                                568          \n",
       "4                                                586          \n",
       "\n",
       "   Number of ballot papers given outside the polling station  \\\n",
       "0                                                139           \n",
       "1                                                 38           \n",
       "2                                                 63           \n",
       "3                                                 56           \n",
       "4                                                 65           \n",
       "\n",
       "   Number of ballot papers given for advance voting  \\\n",
       "0                                                 0   \n",
       "1                                                 0   \n",
       "2                                                 0   \n",
       "3                                                 0   \n",
       "4                                                 0   \n",
       "\n",
       "   Number of excessive ballot papers  \\\n",
       "0                                  0   \n",
       "1                                  0   \n",
       "2                                  0   \n",
       "3                                  0   \n",
       "4                                  0   \n",
       "\n",
       "   Number of ballot papers acquired at the polling station  \\\n",
       "0                                                750         \n",
       "1                                                350         \n",
       "2                                                750         \n",
       "3                                                900         \n",
       "4                                               1000         \n",
       "\n",
       "   Number of invalid ballot papers  Number of unused ballot papers  \\\n",
       "0                                5                             190   \n",
       "1                                2                              88   \n",
       "2                                6                             263   \n",
       "3                                7                             276   \n",
       "4                                8                             349   \n",
       "\n",
       "   Number of lost ballot papers  \n",
       "0                             0  \n",
       "1                             0  \n",
       "2                             0  \n",
       "3                             0  \n",
       "4                             0  \n",
       "\n",
       "[5 rows x 23 columns]"
      ]
     },
     "execution_count": 5,
     "metadata": {},
     "output_type": "execute_result"
    }
   ],
   "source": [
    "elect = pd.read_csv('voting_data_eng.csv')\n",
    "elect.head()"
   ]
  },
  {
   "cell_type": "markdown",
   "metadata": {},
   "source": [
    "Снчала переводим все данные в проценты.\n",
    "Явка (turnout) - соотношение всех выданных бюллетеней в числу избирателей в списках. Фамилиями обозначаем доли голосов за каждого кандидата среди всех выданных бюллетеней. И аналогично доля недействительных бюллетеней.  "
   ]
  },
  {
   "cell_type": "code",
   "execution_count": 6,
   "metadata": {},
   "outputs": [
    {
     "data": {
      "text/html": [
       "<div>\n",
       "<style scoped>\n",
       "    .dataframe tbody tr th:only-of-type {\n",
       "        vertical-align: middle;\n",
       "    }\n",
       "\n",
       "    .dataframe tbody tr th {\n",
       "        vertical-align: top;\n",
       "    }\n",
       "\n",
       "    .dataframe thead th {\n",
       "        text-align: right;\n",
       "    }\n",
       "</style>\n",
       "<table border=\"1\" class=\"dataframe\">\n",
       "  <thead>\n",
       "    <tr style=\"text-align: right;\">\n",
       "      <th></th>\n",
       "      <th>ps_id</th>\n",
       "      <th>region_name</th>\n",
       "      <th>subregion_name</th>\n",
       "      <th>Baburin Sergei Nikolaevich</th>\n",
       "      <th>Grudinin Pavel Nikolaevich</th>\n",
       "      <th>Zhirinovskiy Vladimir Volfovich</th>\n",
       "      <th>Putin Vladimir Vladimirovich</th>\n",
       "      <th>Sobchak Ksenia Anatolyevna</th>\n",
       "      <th>Suraikin Maksim Aleksandrovich</th>\n",
       "      <th>Titov Boris Yurievich</th>\n",
       "      <th>...</th>\n",
       "      <th>turnout</th>\n",
       "      <th>Baburin</th>\n",
       "      <th>Grudinin</th>\n",
       "      <th>Zhirinovskiy</th>\n",
       "      <th>Putin</th>\n",
       "      <th>Sobchak</th>\n",
       "      <th>Suraikin</th>\n",
       "      <th>Titov</th>\n",
       "      <th>Yavlinskiy</th>\n",
       "      <th>invalid_papers</th>\n",
       "    </tr>\n",
       "  </thead>\n",
       "  <tbody>\n",
       "    <tr>\n",
       "      <th>0</th>\n",
       "      <td>713</td>\n",
       "      <td>Altajskij kraj</td>\n",
       "      <td>Bystroistokskaa</td>\n",
       "      <td>1</td>\n",
       "      <td>109</td>\n",
       "      <td>42</td>\n",
       "      <td>398</td>\n",
       "      <td>2</td>\n",
       "      <td>3</td>\n",
       "      <td>0</td>\n",
       "      <td>...</td>\n",
       "      <td>68.711656</td>\n",
       "      <td>0.178571</td>\n",
       "      <td>19.464286</td>\n",
       "      <td>7.500000</td>\n",
       "      <td>71.071429</td>\n",
       "      <td>0.357143</td>\n",
       "      <td>0.535714</td>\n",
       "      <td>0.000000</td>\n",
       "      <td>0.000000</td>\n",
       "      <td>0.892857</td>\n",
       "    </tr>\n",
       "    <tr>\n",
       "      <th>1</th>\n",
       "      <td>714</td>\n",
       "      <td>Altajskij kraj</td>\n",
       "      <td>Bystroistokskaa</td>\n",
       "      <td>4</td>\n",
       "      <td>27</td>\n",
       "      <td>27</td>\n",
       "      <td>199</td>\n",
       "      <td>0</td>\n",
       "      <td>3</td>\n",
       "      <td>0</td>\n",
       "      <td>...</td>\n",
       "      <td>73.802817</td>\n",
       "      <td>1.526718</td>\n",
       "      <td>10.305344</td>\n",
       "      <td>10.305344</td>\n",
       "      <td>75.954198</td>\n",
       "      <td>0.000000</td>\n",
       "      <td>1.145038</td>\n",
       "      <td>0.000000</td>\n",
       "      <td>0.000000</td>\n",
       "      <td>0.763359</td>\n",
       "    </tr>\n",
       "    <tr>\n",
       "      <th>2</th>\n",
       "      <td>715</td>\n",
       "      <td>Altajskij kraj</td>\n",
       "      <td>Bystroistokskaa</td>\n",
       "      <td>3</td>\n",
       "      <td>100</td>\n",
       "      <td>47</td>\n",
       "      <td>325</td>\n",
       "      <td>2</td>\n",
       "      <td>1</td>\n",
       "      <td>2</td>\n",
       "      <td>...</td>\n",
       "      <td>59.975369</td>\n",
       "      <td>0.616016</td>\n",
       "      <td>20.533881</td>\n",
       "      <td>9.650924</td>\n",
       "      <td>66.735113</td>\n",
       "      <td>0.410678</td>\n",
       "      <td>0.205339</td>\n",
       "      <td>0.410678</td>\n",
       "      <td>0.205339</td>\n",
       "      <td>1.232033</td>\n",
       "    </tr>\n",
       "    <tr>\n",
       "      <th>3</th>\n",
       "      <td>716</td>\n",
       "      <td>Altajskij kraj</td>\n",
       "      <td>Bystroistokskaa</td>\n",
       "      <td>2</td>\n",
       "      <td>131</td>\n",
       "      <td>51</td>\n",
       "      <td>420</td>\n",
       "      <td>1</td>\n",
       "      <td>5</td>\n",
       "      <td>1</td>\n",
       "      <td>...</td>\n",
       "      <td>64.895833</td>\n",
       "      <td>0.321027</td>\n",
       "      <td>21.027287</td>\n",
       "      <td>8.186196</td>\n",
       "      <td>67.415730</td>\n",
       "      <td>0.160514</td>\n",
       "      <td>0.802568</td>\n",
       "      <td>0.160514</td>\n",
       "      <td>0.802568</td>\n",
       "      <td>1.123596</td>\n",
       "    </tr>\n",
       "    <tr>\n",
       "      <th>4</th>\n",
       "      <td>717</td>\n",
       "      <td>Altajskij kraj</td>\n",
       "      <td>Bystroistokskaa</td>\n",
       "      <td>6</td>\n",
       "      <td>155</td>\n",
       "      <td>66</td>\n",
       "      <td>406</td>\n",
       "      <td>5</td>\n",
       "      <td>2</td>\n",
       "      <td>2</td>\n",
       "      <td>...</td>\n",
       "      <td>62.959381</td>\n",
       "      <td>0.921659</td>\n",
       "      <td>23.809524</td>\n",
       "      <td>10.138249</td>\n",
       "      <td>62.365591</td>\n",
       "      <td>0.768049</td>\n",
       "      <td>0.307220</td>\n",
       "      <td>0.307220</td>\n",
       "      <td>0.153610</td>\n",
       "      <td>1.228879</td>\n",
       "    </tr>\n",
       "  </tbody>\n",
       "</table>\n",
       "<p>5 rows × 33 columns</p>\n",
       "</div>"
      ],
      "text/plain": [
       "   ps_id     region_name   subregion_name  Baburin Sergei Nikolaevich  \\\n",
       "0    713  Altajskij kraj  Bystroistokskaa                           1   \n",
       "1    714  Altajskij kraj  Bystroistokskaa                           4   \n",
       "2    715  Altajskij kraj  Bystroistokskaa                           3   \n",
       "3    716  Altajskij kraj  Bystroistokskaa                           2   \n",
       "4    717  Altajskij kraj  Bystroistokskaa                           6   \n",
       "\n",
       "   Grudinin Pavel Nikolaevich  Zhirinovskiy Vladimir Volfovich  \\\n",
       "0                         109                               42   \n",
       "1                          27                               27   \n",
       "2                         100                               47   \n",
       "3                         131                               51   \n",
       "4                         155                               66   \n",
       "\n",
       "   Putin Vladimir Vladimirovich  Sobchak Ksenia Anatolyevna  \\\n",
       "0                           398                           2   \n",
       "1                           199                           0   \n",
       "2                           325                           2   \n",
       "3                           420                           1   \n",
       "4                           406                           5   \n",
       "\n",
       "   Suraikin Maksim Aleksandrovich  Titov Boris Yurievich  ...    turnout  \\\n",
       "0                               3                      0  ...  68.711656   \n",
       "1                               3                      0  ...  73.802817   \n",
       "2                               1                      2  ...  59.975369   \n",
       "3                               5                      1  ...  64.895833   \n",
       "4                               2                      2  ...  62.959381   \n",
       "\n",
       "    Baburin   Grudinin  Zhirinovskiy      Putin   Sobchak  Suraikin     Titov  \\\n",
       "0  0.178571  19.464286      7.500000  71.071429  0.357143  0.535714  0.000000   \n",
       "1  1.526718  10.305344     10.305344  75.954198  0.000000  1.145038  0.000000   \n",
       "2  0.616016  20.533881      9.650924  66.735113  0.410678  0.205339  0.410678   \n",
       "3  0.321027  21.027287      8.186196  67.415730  0.160514  0.802568  0.160514   \n",
       "4  0.921659  23.809524     10.138249  62.365591  0.768049  0.307220  0.307220   \n",
       "\n",
       "   Yavlinskiy  invalid_papers  \n",
       "0    0.000000        0.892857  \n",
       "1    0.000000        0.763359  \n",
       "2    0.205339        1.232033  \n",
       "3    0.802568        1.123596  \n",
       "4    0.153610        1.228879  \n",
       "\n",
       "[5 rows x 33 columns]"
      ]
     },
     "execution_count": 6,
     "metadata": {},
     "output_type": "execute_result"
    }
   ],
   "source": [
    "elect['turnout'] = (elect['Number of valid ballot papers'] + elect['Number of invalid ballot papers']) / elect['Number of voters enlisted']*100\n",
    "\n",
    "elect['Baburin'] = elect['Baburin Sergei Nikolaevich']/(elect['Number of valid ballot papers'] + elect['Number of invalid ballot papers'])*100\n",
    "elect['Grudinin'] = elect['Grudinin Pavel Nikolaevich']/(elect['Number of valid ballot papers'] + elect['Number of invalid ballot papers'])*100\n",
    "elect['Zhirinovskiy'] = elect['Zhirinovskiy Vladimir Volfovich']/(elect['Number of valid ballot papers'] + elect['Number of invalid ballot papers'])*100\n",
    "elect['Putin'] = elect['Putin Vladimir Vladimirovich']/(elect['Number of valid ballot papers'] + elect['Number of invalid ballot papers'])*100\n",
    "elect['Sobchak'] = elect['Sobchak Ksenia Anatolyevna']/(elect['Number of valid ballot papers'] + elect['Number of invalid ballot papers'])*100\n",
    "elect['Suraikin'] = elect['Suraikin Maksim Aleksandrovich']/(elect['Number of valid ballot papers'] + elect['Number of invalid ballot papers'])*100\n",
    "elect['Titov'] = elect['Titov Boris Yurievich']/(elect['Number of valid ballot papers'] + elect['Number of invalid ballot papers'])*100\n",
    "elect['Yavlinskiy'] = elect['Yavlinskiy Gregory Alekseivich']/(elect['Number of valid ballot papers'] + elect['Number of invalid ballot papers'])*100\n",
    "elect['invalid_papers'] = elect['Number of invalid ballot papers']/(elect['Number of valid ballot papers'] + elect['Number of invalid ballot papers'])*100\n",
    "\n",
    "elect.head()"
   ]
  },
  {
   "cell_type": "markdown",
   "metadata": {},
   "source": [
    "Удаляем все лишние столбцы"
   ]
  },
  {
   "cell_type": "code",
   "execution_count": 7,
   "metadata": {},
   "outputs": [
    {
     "data": {
      "text/html": [
       "<div>\n",
       "<style scoped>\n",
       "    .dataframe tbody tr th:only-of-type {\n",
       "        vertical-align: middle;\n",
       "    }\n",
       "\n",
       "    .dataframe tbody tr th {\n",
       "        vertical-align: top;\n",
       "    }\n",
       "\n",
       "    .dataframe thead th {\n",
       "        text-align: right;\n",
       "    }\n",
       "</style>\n",
       "<table border=\"1\" class=\"dataframe\">\n",
       "  <thead>\n",
       "    <tr style=\"text-align: right;\">\n",
       "      <th></th>\n",
       "      <th>region_name</th>\n",
       "      <th>subregion_name</th>\n",
       "      <th>turnout</th>\n",
       "      <th>Baburin</th>\n",
       "      <th>Grudinin</th>\n",
       "      <th>Zhirinovskiy</th>\n",
       "      <th>Putin</th>\n",
       "      <th>Sobchak</th>\n",
       "      <th>Suraikin</th>\n",
       "      <th>Titov</th>\n",
       "      <th>Yavlinskiy</th>\n",
       "      <th>invalid_papers</th>\n",
       "    </tr>\n",
       "  </thead>\n",
       "  <tbody>\n",
       "    <tr>\n",
       "      <th>0</th>\n",
       "      <td>Altajskij kraj</td>\n",
       "      <td>Bystroistokskaa</td>\n",
       "      <td>68.711656</td>\n",
       "      <td>0.178571</td>\n",
       "      <td>19.464286</td>\n",
       "      <td>7.500000</td>\n",
       "      <td>71.071429</td>\n",
       "      <td>0.357143</td>\n",
       "      <td>0.535714</td>\n",
       "      <td>0.000000</td>\n",
       "      <td>0.000000</td>\n",
       "      <td>0.892857</td>\n",
       "    </tr>\n",
       "    <tr>\n",
       "      <th>1</th>\n",
       "      <td>Altajskij kraj</td>\n",
       "      <td>Bystroistokskaa</td>\n",
       "      <td>73.802817</td>\n",
       "      <td>1.526718</td>\n",
       "      <td>10.305344</td>\n",
       "      <td>10.305344</td>\n",
       "      <td>75.954198</td>\n",
       "      <td>0.000000</td>\n",
       "      <td>1.145038</td>\n",
       "      <td>0.000000</td>\n",
       "      <td>0.000000</td>\n",
       "      <td>0.763359</td>\n",
       "    </tr>\n",
       "    <tr>\n",
       "      <th>2</th>\n",
       "      <td>Altajskij kraj</td>\n",
       "      <td>Bystroistokskaa</td>\n",
       "      <td>59.975369</td>\n",
       "      <td>0.616016</td>\n",
       "      <td>20.533881</td>\n",
       "      <td>9.650924</td>\n",
       "      <td>66.735113</td>\n",
       "      <td>0.410678</td>\n",
       "      <td>0.205339</td>\n",
       "      <td>0.410678</td>\n",
       "      <td>0.205339</td>\n",
       "      <td>1.232033</td>\n",
       "    </tr>\n",
       "    <tr>\n",
       "      <th>3</th>\n",
       "      <td>Altajskij kraj</td>\n",
       "      <td>Bystroistokskaa</td>\n",
       "      <td>64.895833</td>\n",
       "      <td>0.321027</td>\n",
       "      <td>21.027287</td>\n",
       "      <td>8.186196</td>\n",
       "      <td>67.415730</td>\n",
       "      <td>0.160514</td>\n",
       "      <td>0.802568</td>\n",
       "      <td>0.160514</td>\n",
       "      <td>0.802568</td>\n",
       "      <td>1.123596</td>\n",
       "    </tr>\n",
       "    <tr>\n",
       "      <th>4</th>\n",
       "      <td>Altajskij kraj</td>\n",
       "      <td>Bystroistokskaa</td>\n",
       "      <td>62.959381</td>\n",
       "      <td>0.921659</td>\n",
       "      <td>23.809524</td>\n",
       "      <td>10.138249</td>\n",
       "      <td>62.365591</td>\n",
       "      <td>0.768049</td>\n",
       "      <td>0.307220</td>\n",
       "      <td>0.307220</td>\n",
       "      <td>0.153610</td>\n",
       "      <td>1.228879</td>\n",
       "    </tr>\n",
       "  </tbody>\n",
       "</table>\n",
       "</div>"
      ],
      "text/plain": [
       "      region_name   subregion_name    turnout   Baburin   Grudinin  \\\n",
       "0  Altajskij kraj  Bystroistokskaa  68.711656  0.178571  19.464286   \n",
       "1  Altajskij kraj  Bystroistokskaa  73.802817  1.526718  10.305344   \n",
       "2  Altajskij kraj  Bystroistokskaa  59.975369  0.616016  20.533881   \n",
       "3  Altajskij kraj  Bystroistokskaa  64.895833  0.321027  21.027287   \n",
       "4  Altajskij kraj  Bystroistokskaa  62.959381  0.921659  23.809524   \n",
       "\n",
       "   Zhirinovskiy      Putin   Sobchak  Suraikin     Titov  Yavlinskiy  \\\n",
       "0      7.500000  71.071429  0.357143  0.535714  0.000000    0.000000   \n",
       "1     10.305344  75.954198  0.000000  1.145038  0.000000    0.000000   \n",
       "2      9.650924  66.735113  0.410678  0.205339  0.410678    0.205339   \n",
       "3      8.186196  67.415730  0.160514  0.802568  0.160514    0.802568   \n",
       "4     10.138249  62.365591  0.768049  0.307220  0.307220    0.153610   \n",
       "\n",
       "   invalid_papers  \n",
       "0        0.892857  \n",
       "1        0.763359  \n",
       "2        1.232033  \n",
       "3        1.123596  \n",
       "4        1.228879  "
      ]
     },
     "execution_count": 7,
     "metadata": {},
     "output_type": "execute_result"
    }
   ],
   "source": [
    "elect1 = elect.drop(['Baburin Sergei Nikolaevich', \n",
    "                     'Grudinin Pavel Nikolaevich', 'Zhirinovskiy Vladimir Volfovich', 'Putin Vladimir Vladimirovich', \n",
    "                     'Sobchak Ksenia Anatolyevna', 'Suraikin Maksim Aleksandrovich', 'Titov Boris Yurievich', \n",
    "                     'Yavlinskiy Gregory Alekseivich', 'Number of ballot papers in ballot boxes', \n",
    "                     'Number of lost ballot papers', 'Number of voters enlisted', \n",
    "                     'Number of ballot papers in portable ballot boxes', \n",
    "                     'Number of ballot papers given inside the polling station', \n",
    "                     'Number of ballot papers given outside the polling station', \n",
    "                     'Number of valid ballot papers', 'Number of ballot papers given for advance voting', \n",
    "                     'Number of excessive ballot papers', 'Number of ballot papers acquired at the polling station', \n",
    "                     'Number of invalid ballot papers', 'Number of unused ballot papers', 'ps_id'], axis=1)\n",
    "elect1.head()"
   ]
  },
  {
   "cell_type": "code",
   "execution_count": 8,
   "metadata": {},
   "outputs": [],
   "source": [
    "import seaborn as sns"
   ]
  },
  {
   "cell_type": "markdown",
   "metadata": {},
   "source": [
    "Ищем зависимости между долей голосов за Путина, долей недействительных бюллетеней и явкой (обычно именно из этих показателей выявляются фальсификации)\n",
    "\n",
    "Видны выбросы (т.е. какие-то аномальные значения в некоторых УИКах),  также нечто похожее на зависимость между явкой и долей недействительных бюллетеней. "
   ]
  },
  {
   "cell_type": "code",
   "execution_count": 9,
   "metadata": {},
   "outputs": [
    {
     "data": {
      "text/plain": [
       "<seaborn.axisgrid.PairGrid at 0xe4f8788>"
      ]
     },
     "execution_count": 9,
     "metadata": {},
     "output_type": "execute_result"
    },
    {
     "data": {
      "image/png": "[encoded data removed]",
      "text/plain": [
       "<Figure size 540x540 with 12 Axes>"
      ]
     },
     "metadata": {
      "needs_background": "light"
     },
     "output_type": "display_data"
    }
   ],
   "source": [
    "sns_plot = sns.pairplot(\n",
    "    elect1[['Putin', 'invalid_papers', 'turnout']])\n",
    "\n",
    "sns_plot"
   ]
  },
  {
   "cell_type": "markdown",
   "metadata": {},
   "source": [
    "Рассмотрим подробнее распределение по явке и доле недействительных бюллетеней. \n",
    "На гистограмме сразу видны УИКи с аномально высокой явкой, причем их довольно много. \n",
    "Чем выше явка, тем выше вариативность по доле недействительных бюллетеней. "
   ]
  },
  {
   "cell_type": "code",
   "execution_count": 10,
   "metadata": {},
   "outputs": [
    {
     "data": {
      "text/plain": [
       "<seaborn.axisgrid.JointGrid at 0xee6cdc8>"
      ]
     },
     "execution_count": 10,
     "metadata": {},
     "output_type": "execute_result"
    },
    {
     "data": {
      "image/png": "[encoded data removed]",
      "text/plain": [
       "<Figure size 432x432 with 3 Axes>"
      ]
     },
     "metadata": {
      "needs_background": "light"
     },
     "output_type": "display_data"
    }
   ],
   "source": [
    "sns.jointplot(x='turnout', y='invalid_papers', \n",
    "              data=elect1, kind='scatter')"
   ]
  },
  {
   "cell_type": "markdown",
   "metadata": {},
   "source": [
    "Такая же визуализация со сравнением доли голосов за Путина и явкой. Очень подозрителоьный \"подтянутый\" правый верхний угол. "
   ]
  },
  {
   "cell_type": "code",
   "execution_count": 11,
   "metadata": {},
   "outputs": [
    {
     "data": {
      "text/plain": [
       "<seaborn.axisgrid.JointGrid at 0xfad0308>"
      ]
     },
     "execution_count": 11,
     "metadata": {},
     "output_type": "execute_result"
    },
    {
     "data": {
      "image/png": "[encoded data removed]",
      "text/plain": [
       "<Figure size 432x432 with 3 Axes>"
      ]
     },
     "metadata": {
      "needs_background": "light"
     },
     "output_type": "display_data"
    }
   ],
   "source": [
    "sns.jointplot(x='turnout', y='Putin', \n",
    "              data=elect1, kind='scatter')"
   ]
  },
  {
   "cell_type": "markdown",
   "metadata": {},
   "source": [
    "Гистограмма распределения УИКов по явке. Справа хорошо видно искусственное завышение явки."
   ]
  },
  {
   "cell_type": "code",
   "execution_count": 12,
   "metadata": {},
   "outputs": [
    {
     "data": {
      "text/plain": [
       "<matplotlib.axes._subplots.AxesSubplot at 0x1162bc88>"
      ]
     },
     "execution_count": 12,
     "metadata": {},
     "output_type": "execute_result"
    },
    {
     "data": {
      "image/png": "[encoded data removed]",
      "text/plain": [
       "<Figure size 432x288 with 1 Axes>"
      ]
     },
     "metadata": {
      "needs_background": "light"
     },
     "output_type": "display_data"
    }
   ],
   "source": [
    "elect1.turnout.hist(bins=100)"
   ]
  },
  {
   "cell_type": "markdown",
   "metadata": {},
   "source": [
    "И гистограмма распределения УИКов по доле голосов за Путина. Там же, где начинается завышение явки на предыдущей гистограмме, начинается отклонение доли голосов за Путина от нормального распределения. "
   ]
  },
  {
   "cell_type": "code",
   "execution_count": 63,
   "metadata": {},
   "outputs": [
    {
     "data": {
      "text/plain": [
       "<matplotlib.axes._subplots.AxesSubplot at 0x1ead7188>"
      ]
     },
     "execution_count": 63,
     "metadata": {},
     "output_type": "execute_result"
    },
    {
     "data": {
      "image/png": "[encoded data removed]",
      "text/plain": [
       "<Figure size 432x288 with 1 Axes>"
      ]
     },
     "metadata": {
      "needs_background": "light"
     },
     "output_type": "display_data"
    }
   ],
   "source": [
    "elect1.Putin.hist(bins=100)"
   ]
  },
  {
   "cell_type": "markdown",
   "metadata": {},
   "source": [
    "Удаляем явку, она больше не понадобится. "
   ]
  },
  {
   "cell_type": "code",
   "execution_count": 14,
   "metadata": {},
   "outputs": [
    {
     "data": {
      "text/html": [
       "<div>\n",
       "<style scoped>\n",
       "    .dataframe tbody tr th:only-of-type {\n",
       "        vertical-align: middle;\n",
       "    }\n",
       "\n",
       "    .dataframe tbody tr th {\n",
       "        vertical-align: top;\n",
       "    }\n",
       "\n",
       "    .dataframe thead th {\n",
       "        text-align: right;\n",
       "    }\n",
       "</style>\n",
       "<table border=\"1\" class=\"dataframe\">\n",
       "  <thead>\n",
       "    <tr style=\"text-align: right;\">\n",
       "      <th></th>\n",
       "      <th>region_name</th>\n",
       "      <th>subregion_name</th>\n",
       "      <th>Baburin</th>\n",
       "      <th>Grudinin</th>\n",
       "      <th>Zhirinovskiy</th>\n",
       "      <th>Putin</th>\n",
       "      <th>Sobchak</th>\n",
       "      <th>Suraikin</th>\n",
       "      <th>Titov</th>\n",
       "      <th>Yavlinskiy</th>\n",
       "      <th>invalid_papers</th>\n",
       "    </tr>\n",
       "  </thead>\n",
       "  <tbody>\n",
       "    <tr>\n",
       "      <th>0</th>\n",
       "      <td>Altajskij kraj</td>\n",
       "      <td>Bystroistokskaa</td>\n",
       "      <td>0.178571</td>\n",
       "      <td>19.464286</td>\n",
       "      <td>7.500000</td>\n",
       "      <td>71.071429</td>\n",
       "      <td>0.357143</td>\n",
       "      <td>0.535714</td>\n",
       "      <td>0.000000</td>\n",
       "      <td>0.000000</td>\n",
       "      <td>0.892857</td>\n",
       "    </tr>\n",
       "    <tr>\n",
       "      <th>1</th>\n",
       "      <td>Altajskij kraj</td>\n",
       "      <td>Bystroistokskaa</td>\n",
       "      <td>1.526718</td>\n",
       "      <td>10.305344</td>\n",
       "      <td>10.305344</td>\n",
       "      <td>75.954198</td>\n",
       "      <td>0.000000</td>\n",
       "      <td>1.145038</td>\n",
       "      <td>0.000000</td>\n",
       "      <td>0.000000</td>\n",
       "      <td>0.763359</td>\n",
       "    </tr>\n",
       "    <tr>\n",
       "      <th>2</th>\n",
       "      <td>Altajskij kraj</td>\n",
       "      <td>Bystroistokskaa</td>\n",
       "      <td>0.616016</td>\n",
       "      <td>20.533881</td>\n",
       "      <td>9.650924</td>\n",
       "      <td>66.735113</td>\n",
       "      <td>0.410678</td>\n",
       "      <td>0.205339</td>\n",
       "      <td>0.410678</td>\n",
       "      <td>0.205339</td>\n",
       "      <td>1.232033</td>\n",
       "    </tr>\n",
       "    <tr>\n",
       "      <th>3</th>\n",
       "      <td>Altajskij kraj</td>\n",
       "      <td>Bystroistokskaa</td>\n",
       "      <td>0.321027</td>\n",
       "      <td>21.027287</td>\n",
       "      <td>8.186196</td>\n",
       "      <td>67.415730</td>\n",
       "      <td>0.160514</td>\n",
       "      <td>0.802568</td>\n",
       "      <td>0.160514</td>\n",
       "      <td>0.802568</td>\n",
       "      <td>1.123596</td>\n",
       "    </tr>\n",
       "    <tr>\n",
       "      <th>4</th>\n",
       "      <td>Altajskij kraj</td>\n",
       "      <td>Bystroistokskaa</td>\n",
       "      <td>0.921659</td>\n",
       "      <td>23.809524</td>\n",
       "      <td>10.138249</td>\n",
       "      <td>62.365591</td>\n",
       "      <td>0.768049</td>\n",
       "      <td>0.307220</td>\n",
       "      <td>0.307220</td>\n",
       "      <td>0.153610</td>\n",
       "      <td>1.228879</td>\n",
       "    </tr>\n",
       "  </tbody>\n",
       "</table>\n",
       "</div>"
      ],
      "text/plain": [
       "      region_name   subregion_name   Baburin   Grudinin  Zhirinovskiy  \\\n",
       "0  Altajskij kraj  Bystroistokskaa  0.178571  19.464286      7.500000   \n",
       "1  Altajskij kraj  Bystroistokskaa  1.526718  10.305344     10.305344   \n",
       "2  Altajskij kraj  Bystroistokskaa  0.616016  20.533881      9.650924   \n",
       "3  Altajskij kraj  Bystroistokskaa  0.321027  21.027287      8.186196   \n",
       "4  Altajskij kraj  Bystroistokskaa  0.921659  23.809524     10.138249   \n",
       "\n",
       "       Putin   Sobchak  Suraikin     Titov  Yavlinskiy  invalid_papers  \n",
       "0  71.071429  0.357143  0.535714  0.000000    0.000000        0.892857  \n",
       "1  75.954198  0.000000  1.145038  0.000000    0.000000        0.763359  \n",
       "2  66.735113  0.410678  0.205339  0.410678    0.205339        1.232033  \n",
       "3  67.415730  0.160514  0.802568  0.160514    0.802568        1.123596  \n",
       "4  62.365591  0.768049  0.307220  0.307220    0.153610        1.228879  "
      ]
     },
     "execution_count": 14,
     "metadata": {},
     "output_type": "execute_result"
    }
   ],
   "source": [
    "elect2 = elect1.drop(['turnout'], axis=1)\n",
    "elect2.head()"
   ]
  },
  {
   "cell_type": "markdown",
   "metadata": {},
   "source": [
    "И строим боксы по каждому кандидату. Распределение в основном компактное, но довольно много отклонений, особенно у лидеров. "
   ]
  },
  {
   "cell_type": "code",
   "execution_count": 15,
   "metadata": {},
   "outputs": [
    {
     "data": {
      "text/plain": [
       "<matplotlib.axes._subplots.AxesSubplot at 0x117fa808>"
      ]
     },
     "execution_count": 15,
     "metadata": {},
     "output_type": "execute_result"
    },
    {
     "data": {
      "image/png": "[encoded data removed]",
      "text/plain": [
       "<Figure size 432x288 with 1 Axes>"
      ]
     },
     "metadata": {
      "needs_background": "light"
     },
     "output_type": "display_data"
    }
   ],
   "source": [
    "elect2.plot(kind='box', rot=45)"
   ]
  },
  {
   "cell_type": "markdown",
   "metadata": {},
   "source": [
    "Найдем регионы с самой низкой поддержкой Путина. Что характерно, лидирует Хабаровский край, где недавно были протесты. И Москва тоже в десятке. "
   ]
  },
  {
   "cell_type": "code",
   "execution_count": 99,
   "metadata": {},
   "outputs": [
    {
     "data": {
      "text/html": [
       "<div>\n",
       "<style scoped>\n",
       "    .dataframe tbody tr th:only-of-type {\n",
       "        vertical-align: middle;\n",
       "    }\n",
       "\n",
       "    .dataframe tbody tr th {\n",
       "        vertical-align: top;\n",
       "    }\n",
       "\n",
       "    .dataframe thead th {\n",
       "        text-align: right;\n",
       "    }\n",
       "</style>\n",
       "<table border=\"1\" class=\"dataframe\">\n",
       "  <thead>\n",
       "    <tr style=\"text-align: right;\">\n",
       "      <th></th>\n",
       "      <th>Baburin</th>\n",
       "      <th>Grudinin</th>\n",
       "      <th>Zhirinovskiy</th>\n",
       "      <th>Putin</th>\n",
       "      <th>Sobchak</th>\n",
       "      <th>Suraikin</th>\n",
       "      <th>Titov</th>\n",
       "      <th>Yavlinskiy</th>\n",
       "    </tr>\n",
       "    <tr>\n",
       "      <th>region_name</th>\n",
       "      <th></th>\n",
       "      <th></th>\n",
       "      <th></th>\n",
       "      <th></th>\n",
       "      <th></th>\n",
       "      <th></th>\n",
       "      <th></th>\n",
       "      <th></th>\n",
       "    </tr>\n",
       "  </thead>\n",
       "  <tbody>\n",
       "    <tr>\n",
       "      <th>Habarovskij kraj</th>\n",
       "      <td>0.672504</td>\n",
       "      <td>16.923373</td>\n",
       "      <td>11.085729</td>\n",
       "      <td>65.987620</td>\n",
       "      <td>1.526553</td>\n",
       "      <td>0.722032</td>\n",
       "      <td>0.716454</td>\n",
       "      <td>0.706236</td>\n",
       "    </tr>\n",
       "    <tr>\n",
       "      <th>Primorskij kraj</th>\n",
       "      <td>0.818911</td>\n",
       "      <td>18.996088</td>\n",
       "      <td>8.754663</td>\n",
       "      <td>66.277715</td>\n",
       "      <td>1.546194</td>\n",
       "      <td>0.632636</td>\n",
       "      <td>0.670971</td>\n",
       "      <td>0.763856</td>\n",
       "    </tr>\n",
       "    <tr>\n",
       "      <th>Altajskij kraj</th>\n",
       "      <td>0.623423</td>\n",
       "      <td>20.891675</td>\n",
       "      <td>8.078422</td>\n",
       "      <td>67.068094</td>\n",
       "      <td>0.778508</td>\n",
       "      <td>0.636692</td>\n",
       "      <td>0.368672</td>\n",
       "      <td>0.431528</td>\n",
       "    </tr>\n",
       "    <tr>\n",
       "      <th>Sahalinskaa oblast_</th>\n",
       "      <td>0.786431</td>\n",
       "      <td>15.716612</td>\n",
       "      <td>10.239589</td>\n",
       "      <td>67.654731</td>\n",
       "      <td>1.750901</td>\n",
       "      <td>0.738303</td>\n",
       "      <td>0.747233</td>\n",
       "      <td>0.738872</td>\n",
       "    </tr>\n",
       "    <tr>\n",
       "      <th>Respublika Saha</th>\n",
       "      <td>0.321916</td>\n",
       "      <td>25.275043</td>\n",
       "      <td>3.451848</td>\n",
       "      <td>68.205702</td>\n",
       "      <td>1.071012</td>\n",
       "      <td>0.327344</td>\n",
       "      <td>0.290023</td>\n",
       "      <td>0.273466</td>\n",
       "    </tr>\n",
       "    <tr>\n",
       "      <th>Evrejskaa avtonomnaa</th>\n",
       "      <td>0.580701</td>\n",
       "      <td>16.534571</td>\n",
       "      <td>10.233357</td>\n",
       "      <td>68.837105</td>\n",
       "      <td>0.850704</td>\n",
       "      <td>0.460032</td>\n",
       "      <td>0.402118</td>\n",
       "      <td>0.351750</td>\n",
       "    </tr>\n",
       "    <tr>\n",
       "      <th>Kostromskaa oblast_</th>\n",
       "      <td>0.728705</td>\n",
       "      <td>15.850696</td>\n",
       "      <td>10.407739</td>\n",
       "      <td>69.266622</td>\n",
       "      <td>1.070065</td>\n",
       "      <td>0.675924</td>\n",
       "      <td>0.622352</td>\n",
       "      <td>0.565211</td>\n",
       "    </tr>\n",
       "    <tr>\n",
       "      <th>Kamcatskij kraj</th>\n",
       "      <td>0.597806</td>\n",
       "      <td>13.621475</td>\n",
       "      <td>11.385152</td>\n",
       "      <td>69.481374</td>\n",
       "      <td>1.898982</td>\n",
       "      <td>0.639587</td>\n",
       "      <td>0.644160</td>\n",
       "      <td>0.759623</td>\n",
       "    </tr>\n",
       "    <tr>\n",
       "      <th>Amurskaa oblast_</th>\n",
       "      <td>0.537382</td>\n",
       "      <td>15.561556</td>\n",
       "      <td>10.087183</td>\n",
       "      <td>70.185209</td>\n",
       "      <td>0.900021</td>\n",
       "      <td>0.603496</td>\n",
       "      <td>0.450440</td>\n",
       "      <td>0.361771</td>\n",
       "    </tr>\n",
       "    <tr>\n",
       "      <th>gorod Moskva</th>\n",
       "      <td>0.959306</td>\n",
       "      <td>12.368149</td>\n",
       "      <td>4.726116</td>\n",
       "      <td>70.950157</td>\n",
       "      <td>4.088311</td>\n",
       "      <td>0.723731</td>\n",
       "      <td>1.548222</td>\n",
       "      <td>3.161786</td>\n",
       "    </tr>\n",
       "  </tbody>\n",
       "</table>\n",
       "</div>"
      ],
      "text/plain": [
       "                       Baburin   Grudinin  Zhirinovskiy      Putin   Sobchak  \\\n",
       "region_name                                                                    \n",
       "Habarovskij kraj      0.672504  16.923373     11.085729  65.987620  1.526553   \n",
       "Primorskij kraj       0.818911  18.996088      8.754663  66.277715  1.546194   \n",
       "Altajskij kraj        0.623423  20.891675      8.078422  67.068094  0.778508   \n",
       "Sahalinskaa oblast_   0.786431  15.716612     10.239589  67.654731  1.750901   \n",
       "Respublika Saha       0.321916  25.275043      3.451848  68.205702  1.071012   \n",
       "Evrejskaa avtonomnaa  0.580701  16.534571     10.233357  68.837105  0.850704   \n",
       "Kostromskaa oblast_   0.728705  15.850696     10.407739  69.266622  1.070065   \n",
       "Kamcatskij kraj       0.597806  13.621475     11.385152  69.481374  1.898982   \n",
       "Amurskaa oblast_      0.537382  15.561556     10.087183  70.185209  0.900021   \n",
       "gorod Moskva          0.959306  12.368149      4.726116  70.950157  4.088311   \n",
       "\n",
       "                      Suraikin     Titov  Yavlinskiy  \n",
       "region_name                                           \n",
       "Habarovskij kraj      0.722032  0.716454    0.706236  \n",
       "Primorskij kraj       0.632636  0.670971    0.763856  \n",
       "Altajskij kraj        0.636692  0.368672    0.431528  \n",
       "Sahalinskaa oblast_   0.738303  0.747233    0.738872  \n",
       "Respublika Saha       0.327344  0.290023    0.273466  \n",
       "Evrejskaa avtonomnaa  0.460032  0.402118    0.351750  \n",
       "Kostromskaa oblast_   0.675924  0.622352    0.565211  \n",
       "Kamcatskij kraj       0.639587  0.644160    0.759623  \n",
       "Amurskaa oblast_      0.603496  0.450440    0.361771  \n",
       "gorod Moskva          0.723731  1.548222    3.161786  "
      ]
     },
     "execution_count": 99,
     "metadata": {},
     "output_type": "execute_result"
    }
   ],
   "source": [
    "elect_mean = elect1.groupby([elect1.region_name]).mean().sort_values(by='Putin', ascending=True)\n",
    "\n",
    "elect_mean1 = elect_mean.drop(['turnout', 'invalid_papers'], axis=1).head(10)\n",
    "\n",
    "elect_mean1\n",
    "                            "
   ]
  },
  {
   "cell_type": "markdown",
   "metadata": {},
   "source": [
    "И посмотрим, за кого голосовали в этих регионах. Москва сразу выделяется повышенной долей голосов за Собчак. "
   ]
  },
  {
   "cell_type": "code",
   "execution_count": 100,
   "metadata": {},
   "outputs": [
    {
     "data": {
      "text/plain": [
       "<matplotlib.axes._subplots.AxesSubplot at 0x2efb0b08>"
      ]
     },
     "execution_count": 100,
     "metadata": {},
     "output_type": "execute_result"
    },
    {
     "data": {
      "image/png": "[encoded data removed]",
      "text/plain": [
       "<Figure size 432x288 with 1 Axes>"
      ]
     },
     "metadata": {
      "needs_background": "light"
     },
     "output_type": "display_data"
    }
   ],
   "source": [
    "elect_mean1.plot(kind='barh', stacked=True)"
   ]
  },
  {
   "cell_type": "markdown",
   "metadata": {},
   "source": [
    "И еще вот такие странные диаграммы, показывающие в каких интервалах распределены голоса за всех кандидатов. Но по факту хорошо видны только лидеры. "
   ]
  },
  {
   "cell_type": "code",
   "execution_count": 102,
   "metadata": {},
   "outputs": [
    {
     "data": {
      "text/plain": [
       "<matplotlib.axes._subplots.AxesSubplot at 0x2fa4ea48>"
      ]
     },
     "execution_count": 102,
     "metadata": {},
     "output_type": "execute_result"
    },
    {
     "data": {
      "image/png": "[encoded data removed]",
      "text/plain": [
       "<Figure size 432x288 with 1 Axes>"
      ]
     },
     "metadata": {
      "needs_background": "light"
     },
     "output_type": "display_data"
    }
   ],
   "source": [
    "elect_mean3 = elect_mean.drop(['turnout', 'invalid_papers'], axis=1)\n",
    "elect_mean3.plot(kind='hist', bins=50, stacked=False)\n"
   ]
  },
  {
   "cell_type": "code",
   "execution_count": null,
   "metadata": {},
   "outputs": [],
   "source": []
  },
  {
   "cell_type": "code",
   "execution_count": null,
   "metadata": {},
   "outputs": [],
   "source": []
  },
  {
   "cell_type": "code",
   "execution_count": null,
   "metadata": {},
   "outputs": [],
   "source": []
  }
 ],
 "metadata": {
  "kernelspec": {
   "display_name": "Python 3",
   "language": "python",
   "name": "python3"
  },
  "language_info": {
   "codemirror_mode": {
    "name": "ipython",
    "version": 3
   },
   "file_extension": ".py",
   "mimetype": "text/x-python",
   "name": "python",
   "nbconvert_exporter": "python",
   "pygments_lexer": "ipython3",
   "version": "3.7.6"
  }
 },
 "nbformat": 4,
 "nbformat_minor": 4
}
